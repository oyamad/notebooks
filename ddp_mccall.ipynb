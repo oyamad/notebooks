{
 "cells": [
  {
   "cell_type": "code",
   "execution_count": 1,
   "id": "46d536ab",
   "metadata": {},
   "outputs": [],
   "source": [
    "import numpy as np\n",
    "import matplotlib.pyplot as plt\n",
    "from numba import jit, prange\n",
    "import quantecon as qe"
   ]
  },
  {
   "cell_type": "code",
   "execution_count": 3,
   "id": "f38d275f",
   "metadata": {},
   "outputs": [],
   "source": [
    "num_w_grid = 51\n",
    "a, b = 200, 100  # Parameters of beta-binomial distribution\n",
    "\n",
    "p = qe.distributions.BetaBinomial(num_w_grid-1, a, b).pdf()"
   ]
  },
  {
   "cell_type": "code",
   "execution_count": 4,
   "id": "51ea0fa7",
   "metadata": {},
   "outputs": [],
   "source": [
    "w_min, w_max = 10, 60\n",
    "w = np.linspace(w_min, w_max, num_w_grid)  # Wage offers\n",
    "\n",
    "c = 25.  # Unemployment compensation"
   ]
  },
  {
   "cell_type": "code",
   "execution_count": 5,
   "id": "4035627d",
   "metadata": {},
   "outputs": [],
   "source": [
    "# Number of states\n",
    "# s = 0, ..., len(w)-1: wage w[s] offered, s = len(w): no offer\n",
    "num_states = len(w) + 1"
   ]
  },
  {
   "cell_type": "code",
   "execution_count": 6,
   "id": "aad57f70",
   "metadata": {},
   "outputs": [],
   "source": [
    "beta = 0.99  # Discount factor"
   ]
  },
  {
   "cell_type": "code",
   "execution_count": 7,
   "id": "35d5727b",
   "metadata": {},
   "outputs": [],
   "source": [
    "# Number of actions: 0: reject (continue), 1: accept (stop)\n",
    "num_actions = 2"
   ]
  },
  {
   "cell_type": "markdown",
   "id": "73651385",
   "metadata": {},
   "source": [
    "### Product formulation"
   ]
  },
  {
   "cell_type": "code",
   "execution_count": 14,
   "id": "f38d0cf4",
   "metadata": {},
   "outputs": [],
   "source": [
    "# Reward array\n",
    "R = np.empty((num_states, num_actions))\n",
    "\n",
    "# At states s = 0, ..., num_states-2\n",
    "# If reject, receive c\n",
    "# If accept, receive present value of infinite flow of w[s]\n",
    "R[:-1, 0] = c\n",
    "R[:-1, 1] = w / (1 - beta)\n",
    "\n",
    "# At state s = num_states-1\n",
    "# Cannot reject (receive negative infinity); if accept, receive 0\n",
    "R[-1, :] = -np.inf, 0"
   ]
  },
  {
   "cell_type": "code",
   "execution_count": 21,
   "id": "801438c9",
   "metadata": {},
   "outputs": [],
   "source": [
    "# Transition probability array\n",
    "Q = np.zeros((num_states, num_actions, num_states))\n",
    "\n",
    "# At states s = 0, ..., num_states-2\n",
    "# If reject, draw s' according to p\n",
    "# If accept, s' = num_state-1\n",
    "Q[:-1, 0, :-1] = p\n",
    "Q[:-1, 1, -1] = 1\n",
    "\n",
    "# At state s = num_states-1\n",
    "Q[-1, 0, -1] = 1  # Arbitrary\n",
    "Q[-1, 1, -1] = 1"
   ]
  },
  {
   "cell_type": "code",
   "execution_count": 23,
   "id": "6263043c",
   "metadata": {},
   "outputs": [],
   "source": [
    "ddp = qe.markov.DiscreteDP(R, Q, beta)"
   ]
  },
  {
   "cell_type": "code",
   "execution_count": 26,
   "id": "6a015d4c",
   "metadata": {},
   "outputs": [],
   "source": [
    "res = ddp.solve()"
   ]
  },
  {
   "cell_type": "code",
   "execution_count": 30,
   "id": "59e30f18",
   "metadata": {},
   "outputs": [
    {
     "data": {
      "image/png": "[encoded data removed]",
      "text/plain": [
       "<Figure size 640x480 with 1 Axes>"
      ]
     },
     "metadata": {},
     "output_type": "display_data"
    }
   ],
   "source": [
    "fig, ax = plt.subplots()\n",
    "ax.set_xlabel('wage')\n",
    "ax.set_ylabel('value')\n",
    "ax.plot(w, res.v[:-1])\n",
    "ax.set_title('Optimal value function')\n",
    "plt.show()"
   ]
  },
  {
   "cell_type": "markdown",
   "id": "ba9c4026",
   "metadata": {},
   "source": [
    "The reservation utility $\\bar{u}$, hence reservation wage\n",
    "(which is state independent in this version) is given by\n",
    "$$\n",
    "\\bar{u} = (1 - \\beta) (u(c) + \\beta p \\cdot v),\n",
    "$$\n",
    "where the agent accept the wage offer $w$ if and only if $u(x) \\geq \\bar{u}$."
   ]
  },
  {
   "cell_type": "code",
   "execution_count": 35,
   "id": "2dfe3f67",
   "metadata": {},
   "outputs": [
    {
     "data": {
      "text/plain": [
       "47.316499766606455"
      ]
     },
     "execution_count": 35,
     "metadata": {},
     "output_type": "execute_result"
    }
   ],
   "source": [
    "(1 - beta) * (c + beta * p @ res.v[:-1])"
   ]
  },
  {
   "cell_type": "code",
   "execution_count": null,
   "id": "d3857f52",
   "metadata": {},
   "outputs": [],
   "source": []
  }
 ],
 "metadata": {
  "kernelspec": {
   "display_name": "Python 3 (ipykernel)",
   "language": "python",
   "name": "python3"
  },
  "language_info": {
   "codemirror_mode": {
    "name": "ipython",
    "version": 3
   },
   "file_extension": ".py",
   "mimetype": "text/x-python",
   "name": "python",
   "nbconvert_exporter": "python",
   "pygments_lexer": "ipython3",
   "version": "3.10.8"
  }
 },
 "nbformat": 4,
 "nbformat_minor": 5
}
