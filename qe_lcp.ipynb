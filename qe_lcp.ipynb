{
 "cells": [
  {
   "cell_type": "markdown",
   "id": "97bd6f4d",
   "metadata": {},
   "source": [
    "# Solving Linear Complementarity Problems with QuantEcon.py"
   ]
  },
  {
   "cell_type": "markdown",
   "id": "a4548ec7",
   "metadata": {},
   "source": [
    "**Daisuke Oyama**\n",
    "\n",
    "*Faculty of Economics, University of Tokyo*"
   ]
  },
  {
   "cell_type": "markdown",
   "id": "4d68234e",
   "metadata": {},
   "source": [
    "This notebook demonstrates the usage of the linear complementarity problem (LCP) solver\n",
    "[`lcp_lemke`](https://quanteconpy.readthedocs.io/en/latest/optimize/lcp_lemke.html#quantecon.optimize.lcp_lemke.lcp_lemke)\n",
    "in `QuantEcon.py`.\n",
    "As an example, we solve optimal stopping problems by reformulating those as LCPs\n",
    "(Cottle, Pang, and Stone, 1992, *The Linear Complementarity Problem*, Section 1.2)."
   ]
  },
  {
   "cell_type": "code",
   "execution_count": 1,
   "id": "ee7fc96a",
   "metadata": {},
   "outputs": [],
   "source": [
    "%matplotlib inline"
   ]
  },
  {
   "cell_type": "code",
   "execution_count": 2,
   "id": "f237df63",
   "metadata": {},
   "outputs": [],
   "source": [
    "from collections import namedtuple\n",
    "import numpy as np\n",
    "import matplotlib.pyplot as plt\n",
    "from numba import jit, prange\n",
    "import quantecon as qe"
   ]
  },
  {
   "cell_type": "markdown",
   "id": "1a9e4042",
   "metadata": {},
   "source": [
    "## Linear Complementarity Problems"
   ]
  },
  {
   "cell_type": "markdown",
   "id": "9e21d4b1",
   "metadata": {},
   "source": [
    "Given a matrix $M \\in \\mathbb{R}^{n \\times n}$ and a vector $q \\in \\mathbb{R}^n$,\n",
    "an LCP is to find a vector $z \\in \\mathbb{R}^n$ such that\n",
    "$$\n",
    "\\begin{aligned}\n",
    "&z \\geq 0, \\\\\n",
    "&M z + q \\geq 0, \\\\\n",
    "&z \\cdot (M z + q) = 0.\n",
    "\\end{aligned}\n",
    "$$\n",
    "Such a problem arises as the KKT conditions for quadratic programs, computation of Nash equilibria of two-player games, and Markov optimal stopping problems as we consider below, among others."
   ]
  },
  {
   "cell_type": "markdown",
   "id": "47863bd0",
   "metadata": {},
   "source": [
    "As a simple such problem, let us consider:"
   ]
  },
  {
   "cell_type": "code",
   "execution_count": 3,
   "id": "c06b03eb",
   "metadata": {},
   "outputs": [],
   "source": [
    "M = np.array([[1, 0, 0],\n",
    "              [2, 1, 0],\n",
    "              [2, 2, 1]])\n",
    "q = np.array([-8, -12, -14])"
   ]
  },
  {
   "cell_type": "markdown",
   "id": "8102d903",
   "metadata": {},
   "source": [
    "`QuantEcon.py` provides an LCP solver `qe.optimize.lcp_lemke`\n",
    "(which implements \"Lemke's method\",\n",
    "a pivoting algorithm similar to the simplex method for linear programming):"
   ]
  },
  {
   "cell_type": "code",
   "execution_count": 4,
   "id": "f2ae9fac",
   "metadata": {},
   "outputs": [],
   "source": [
    "res = qe.optimize.lcp_lemke(M, q)"
   ]
  },
  {
   "cell_type": "markdown",
   "id": "1eb89bb9",
   "metadata": {},
   "source": [
    "The return `res` is a namedtuple,\n",
    "where `res.success` indicates whether the solver succeeded in finding a solution,\n",
    "and, if `res.success==True`, `res.z` contains the found solution:"
   ]
  },
  {
   "cell_type": "code",
   "execution_count": 5,
   "id": "b9293e39",
   "metadata": {},
   "outputs": [
    {
     "data": {
      "text/plain": [
       "True"
      ]
     },
     "execution_count": 5,
     "metadata": {},
     "output_type": "execute_result"
    }
   ],
   "source": [
    "res.success"
   ]
  },
  {
   "cell_type": "code",
   "execution_count": 6,
   "id": "1eb7d6dd",
   "metadata": {},
   "outputs": [
    {
     "data": {
      "text/plain": [
       "array([8., 0., 0.])"
      ]
     },
     "execution_count": 6,
     "metadata": {},
     "output_type": "execute_result"
    }
   ],
   "source": [
    "res.z"
   ]
  },
  {
   "cell_type": "markdown",
   "id": "034e3d5e",
   "metadata": {},
   "source": [
    "To verify that the returned vector is indeed a solution:"
   ]
  },
  {
   "cell_type": "code",
   "execution_count": 7,
   "id": "3111fa80",
   "metadata": {},
   "outputs": [
    {
     "data": {
      "text/plain": [
       "array([0., 4., 2.])"
      ]
     },
     "execution_count": 7,
     "metadata": {},
     "output_type": "execute_result"
    }
   ],
   "source": [
    "M @ res.z + q"
   ]
  },
  {
   "cell_type": "code",
   "execution_count": 8,
   "id": "f84ea1b1",
   "metadata": {},
   "outputs": [
    {
     "data": {
      "text/plain": [
       "0.0"
      ]
     },
     "execution_count": 8,
     "metadata": {},
     "output_type": "execute_result"
    }
   ],
   "source": [
    "res.z @ (M @ res.z + q)"
   ]
  },
  {
   "cell_type": "markdown",
   "id": "920ad18b",
   "metadata": {},
   "source": [
    "## Optimal Stopping"
   ]
  },
  {
   "cell_type": "markdown",
   "id": "695d1209",
   "metadata": {},
   "source": [
    "Now we consider optimal stopping problems.\n",
    "Examples include job search problems as we study below."
   ]
  },
  {
   "cell_type": "markdown",
   "id": "342eb453",
   "metadata": {},
   "source": [
    "In each period, a state $s \\in S = \\{0, \\ldots, n-1\\}$ realizes\n",
    "according to a Markov chanin with transition probability matrix $P \\in \\mathbb{R}^{n \\times n}$.\n",
    "\n",
    "The decision maker (DM) has two options: stop or continue.\n",
    "If stop, then DM receives reward $r(s)$ and the process stops;\n",
    "if continue, then DM receives reward $b(s)$ and the process proceeds to the next period.\n",
    "DM makes decisions in order to maximize the expected discounted sum of rewards\n",
    "with discount factor $\\beta \\in (0, 1)$."
   ]
  },
  {
   "cell_type": "markdown",
   "id": "2ed4bd73",
   "metadata": {},
   "source": [
    "The optimal value function of this dynamic program is denoted by $v \\in \\mathbb{R}^n$.\n",
    "The Bellman equation is then:\n",
    "$$\n",
    "v(s) = \\max\\{r(s), b(s) + \\beta (P v)(s)\\}\n",
    "\\qquad (s \\in S).\n",
    "$$\n",
    "This means: for each $s \\in S$,\n",
    "* $v(s) \\geq r(s)$;\n",
    "* $v(s) \\geq b(s) + \\beta (P v)(s)$; and\n",
    "* at least one of these inequalities holds with equality."
   ]
  },
  {
   "cell_type": "markdown",
   "id": "5af8e1e6",
   "metadata": {},
   "source": [
    "Now denote $z = v - r \\in \\mathbb{R}^n$.\n",
    "Then the above condition is equivalently written as:\n",
    "\n",
    "* $z \\geq 0$;\n",
    "* $(I - \\beta P) z + (I - \\beta P) r - b \\geq 0$; and\n",
    "* $z \\cdot [(I - \\beta P) z + (I - \\beta P) r - b] = 0$;\n",
    "\n",
    "where $I$ is the $n \\times n$ identity matrix.\n",
    "\n",
    "This is precisely an LCP with\n",
    "$$\n",
    "\\begin{aligned}\n",
    "M &= I - \\beta P, \\\\\n",
    "q &= M r - b.\n",
    "\\end{aligned}\n",
    "$$"
   ]
  },
  {
   "cell_type": "markdown",
   "id": "12ec2711",
   "metadata": {},
   "source": [
    "In the following sections,\n",
    "we specify reward functions $r$ and $b$ and Markov matrix $P$\n",
    "in the context of job search problems as studied in\n",
    "[Quantitative Economics with Python](https://python.quantecon.org/)."
   ]
  },
  {
   "cell_type": "markdown",
   "id": "4eb72a8f",
   "metadata": {},
   "source": [
    "## Job Search with IID Wage Offers"
   ]
  },
  {
   "cell_type": "markdown",
   "id": "08ad97d1",
   "metadata": {},
   "source": [
    "Let us first consider the simple version in\n",
    "[Job Search I: The McCall Search Model](https://python.quantecon.org/mccall_model.html)."
   ]
  },
  {
   "cell_type": "markdown",
   "id": "ec1675a4",
   "metadata": {},
   "source": [
    "In each period, DM receives a wage offer $w(s)$.\n",
    "DM can either\n",
    "\n",
    "* stop,\n",
    "  by accepting the offer and work permanently at that wage,\n",
    "  thus receiving a present value of $\\frac{u(w(s))}{1 – \\beta}$; or\n",
    "* continue,\n",
    "  by receiving a state-independent unemployment compensation $c$ and wait for the offer in the next period,\n",
    "\n",
    "where $u$ is the instantaneous utility function,\n",
    "and $\\beta$ is the discount factor.\n",
    "\n",
    "Thus, in the formulation above:\n",
    "\n",
    "* $r(s) = \\frac{u(w(s))}{1 - \\beta}$;\n",
    "* $b(s) \\equiv u(c)$.\n",
    "\n",
    "In this section, the utility function is assumed to be linear:\n",
    "$u(w) = w$."
   ]
  },
  {
   "cell_type": "markdown",
   "id": "f5dac902",
   "metadata": {},
   "source": [
    "In this simple version,\n",
    "the state $s$ is iid, drawn from\n",
    "a [beta-binomial distribution](https://en.wikipedia.org/wiki/Beta-binomial_distribution) $p$.\n",
    "Thus:"
   ]
  },
  {
   "cell_type": "code",
   "execution_count": 9,
   "id": "9f7f279a",
   "metadata": {},
   "outputs": [],
   "source": [
    "n = 51  # Number of states\n",
    "a, b = 200, 100  # Parameters of beta-binomial distribution\n",
    "\n",
    "p = qe.distributions.BetaBinomial(n-1, a, b).pdf()\n",
    "\n",
    "P = np.empty((n, n))  # Markov matrix\n",
    "P[:] = p"
   ]
  },
  {
   "cell_type": "markdown",
   "id": "c8fa231f",
   "metadata": {},
   "source": [
    "Wage offer function and unemployment compensation:"
   ]
  },
  {
   "cell_type": "code",
   "execution_count": 10,
   "id": "2673e738",
   "metadata": {},
   "outputs": [],
   "source": [
    "w_min, w_max = 10, 60\n",
    "w = np.linspace(w_min, w_max, n)  # Wage offers\n",
    "\n",
    "c = 25.  # Unemployment compensation"
   ]
  },
  {
   "cell_type": "markdown",
   "id": "3d00fcf3",
   "metadata": {},
   "source": [
    "Discount factor:"
   ]
  },
  {
   "cell_type": "code",
   "execution_count": 11,
   "id": "5bc758e9",
   "metadata": {},
   "outputs": [],
   "source": [
    "beta = 0.99  # Discount factor"
   ]
  },
  {
   "cell_type": "markdown",
   "id": "748ff8ea",
   "metadata": {},
   "source": [
    "Now set up the LCP:"
   ]
  },
  {
   "cell_type": "code",
   "execution_count": 12,
   "id": "40573688",
   "metadata": {},
   "outputs": [],
   "source": [
    "M = np.eye(n) - beta * P\n",
    "q = M @ w / (1 - beta) - c"
   ]
  },
  {
   "cell_type": "markdown",
   "id": "0453281c",
   "metadata": {},
   "source": [
    "Then solve the problem with `lcp_lemke`:"
   ]
  },
  {
   "cell_type": "code",
   "execution_count": 13,
   "id": "2c97fd8e",
   "metadata": {},
   "outputs": [],
   "source": [
    "res = qe.optimize.lcp_lemke(M, q)"
   ]
  },
  {
   "cell_type": "markdown",
   "id": "176dfe36",
   "metadata": {},
   "source": [
    "`res.z` contains the solution to the LCP,\n",
    "and the optimal value function is given by $v = z + r$ where $r = \\frac{w}{1 - \\beta}$:"
   ]
  },
  {
   "cell_type": "code",
   "execution_count": 14,
   "id": "c1389fbf",
   "metadata": {},
   "outputs": [],
   "source": [
    "v = res.z + w / (1 - beta)"
   ]
  },
  {
   "cell_type": "markdown",
   "id": "8c18fb63",
   "metadata": {},
   "source": [
    "Plot the optimal value function:"
   ]
  },
  {
   "cell_type": "code",
   "execution_count": 15,
   "id": "81464743",
   "metadata": {},
   "outputs": [
    {
     "data": {
      "image/png": "[encoded data removed]",
      "text/plain": [
       "<Figure size 600x400 with 1 Axes>"
      ]
     },
     "metadata": {},
     "output_type": "display_data"
    }
   ],
   "source": [
    "fig, ax = plt.subplots(figsize=(6, 4))\n",
    "ax.plot(w, v, '-')\n",
    "ax.set_xlabel('wage')\n",
    "ax.set_ylabel('value')\n",
    "plt.show()"
   ]
  },
  {
   "cell_type": "markdown",
   "id": "1c2a446f",
   "metadata": {},
   "source": [
    "The reservation utility $\\bar{u}$, hence reservation wage\n",
    "(which is state independent in this version) is given by\n",
    "$$\n",
    "\\bar{u} = (1 - \\beta) \\left(u(c) + \\beta p \\cdot v\\right),\n",
    "$$\n",
    "where DM stops if and only if $u(w) \\geq \\bar{u}$."
   ]
  },
  {
   "cell_type": "code",
   "execution_count": 16,
   "id": "baba129e",
   "metadata": {
    "scrolled": true
   },
   "outputs": [
    {
     "data": {
      "text/plain": [
       "47.316499766606455"
      ]
     },
     "execution_count": 16,
     "metadata": {},
     "output_type": "execute_result"
    }
   ],
   "source": [
    "(1 - beta) * (c + beta * p @ v)"
   ]
  },
  {
   "cell_type": "markdown",
   "id": "cb0d314a",
   "metadata": {},
   "source": [
    "### Comparative Statics"
   ]
  },
  {
   "cell_type": "markdown",
   "id": "dff165f3",
   "metadata": {},
   "source": [
    "Let us compute the reservation wage for various values of $c$ and $\\beta$.\n",
    "\n",
    "We can use `Numba` to produce fast code,\n",
    "as `lcp_lemke` is Numba-jit compiled."
   ]
  },
  {
   "cell_type": "code",
   "execution_count": 17,
   "id": "f10d8810",
   "metadata": {},
   "outputs": [],
   "source": [
    "@jit(nopython=True)\n",
    "def compute_reservation_utility(P, u_w, u_c, beta):\n",
    "    n = len(P)\n",
    "    M = np.eye(n) - beta * P\n",
    "    q = M @ u_w / (1 - beta) - u_c\n",
    "    res = qe.optimize.lcp_lemke(M, q)\n",
    "    v = res.z + u_w / (1 - beta)\n",
    "    out = (1 - beta) * (u_c + beta * P @ v)\n",
    "    return out"
   ]
  },
  {
   "cell_type": "code",
   "execution_count": 18,
   "id": "e83e3931",
   "metadata": {
    "scrolled": true
   },
   "outputs": [
    {
     "data": {
      "text/plain": [
       "47.316499766606455"
      ]
     },
     "execution_count": 18,
     "metadata": {},
     "output_type": "execute_result"
    }
   ],
   "source": [
    "# Warmup\n",
    "compute_reservation_utility(P, w, c, beta)[0]"
   ]
  },
  {
   "cell_type": "markdown",
   "id": "cec52cd4",
   "metadata": {},
   "source": [
    "Compute the reservation wage for different values of $c$'s and $\\beta$'s:"
   ]
  },
  {
   "cell_type": "code",
   "execution_count": 19,
   "id": "f3de8f18",
   "metadata": {},
   "outputs": [],
   "source": [
    "@jit(nopython=True, parallel=True)\n",
    "def comparative_statics_iid(P, u_w, u_c_vals, beta_vals):\n",
    "    n_u_c_vals = u_c_vals.size\n",
    "    n_beta_vals = beta_vals.size\n",
    "    R = np.empty((n_u_c_vals, n_beta_vals))\n",
    "    \n",
    "    for i in prange(n_u_c_vals):\n",
    "        for j in range(n_beta_vals):\n",
    "            out = compute_reservation_utility(P, w, u_c_vals[i], beta_vals[j])\n",
    "            R[i, j] = out[0]\n",
    "            \n",
    "    return R"
   ]
  },
  {
   "cell_type": "code",
   "execution_count": 20,
   "id": "06cb1922",
   "metadata": {},
   "outputs": [
    {
     "data": {
      "text/plain": [
       "array([[47.31649977]])"
      ]
     },
     "execution_count": 20,
     "metadata": {},
     "output_type": "execute_result"
    }
   ],
   "source": [
    "# Warmup\n",
    "comparative_statics_iid(P, w, np.array([c]), np.array([beta]))"
   ]
  },
  {
   "cell_type": "code",
   "execution_count": 21,
   "id": "034135be",
   "metadata": {},
   "outputs": [
    {
     "name": "stdout",
     "output_type": "stream",
     "text": [
      "CPU times: user 168 ms, sys: 3.61 ms, total: 172 ms\n",
      "Wall time: 14.6 ms\n"
     ]
    }
   ],
   "source": [
    "grid_size = 25\n",
    "c_vals = np.linspace(10.0, 30.0, grid_size)\n",
    "beta_vals = np.linspace(0.9, 0.99, grid_size)\n",
    "\n",
    "%time R = comparative_statics_iid(P, w, c_vals, beta_vals)"
   ]
  },
  {
   "cell_type": "code",
   "execution_count": 22,
   "id": "ef0221db",
   "metadata": {},
   "outputs": [
    {
     "data": {
      "image/png": "[encoded data removed]",
      "text/plain": [
       "<Figure size 640x480 with 2 Axes>"
      ]
     },
     "metadata": {},
     "output_type": "display_data"
    }
   ],
   "source": [
    "fig, ax = plt.subplots()\n",
    "\n",
    "cs1 = ax.contourf(c_vals, beta_vals, R.T, alpha=0.75)\n",
    "ctr1 = ax.contour(c_vals, beta_vals, R.T)\n",
    "\n",
    "plt.clabel(ctr1, inline=1, fontsize=13)\n",
    "plt.colorbar(cs1, ax=ax)\n",
    "\n",
    "ax.set_title(\"reservation wage\")\n",
    "ax.set_xlabel(\"$c$\")\n",
    "ax.set_ylabel(r\"$\\beta$\")\n",
    "\n",
    "ax.ticklabel_format(useOffset=False)\n",
    "\n",
    "plt.show()"
   ]
  },
  {
   "cell_type": "markdown",
   "id": "67a3e43d",
   "metadata": {},
   "source": [
    "## Job Search with Correlated Wage Offers"
   ]
  },
  {
   "cell_type": "markdown",
   "id": "523e279c",
   "metadata": {},
   "source": [
    "We now introduce correlation in the wage offer process.\n",
    "Specifically, we consider a simplified version of the one studied in\n",
    "[Job Search IV: Correlated Wage Offers](https://python.quantecon.org/mccall_correlated.html)."
   ]
  },
  {
   "cell_type": "markdown",
   "id": "a72e1777",
   "metadata": {},
   "source": [
    "The wage offer is given by\n",
    "$$\n",
    "w_t = \\exp(x_t) + 1,\n",
    "$$\n",
    "where $\\{x_t\\}$ evolves according to\n",
    "$$\n",
    "x_{t+1} = d + \\rho x_t + \\sigma \\epsilon_{t+1}\n",
    "$$\n",
    "with IID standard normal $\\{\\epsilon_t\\}$."
   ]
  },
  {
   "cell_type": "markdown",
   "id": "7abacf7e",
   "metadata": {},
   "source": [
    "In the lecture, the wage is given by\n",
    "$w_t = \\exp(x_t) + \\exp(\\mu + s \\zeta_t)$ with IID standard normal $\\{\\zeta_t\\}$,\n",
    "where $\\mu = 0$ and $s = 1$ in the code there.\n",
    "Here, we are letting $\\mu = s = 0$."
   ]
  },
  {
   "cell_type": "code",
   "execution_count": 23,
   "id": "8c5c55f2",
   "metadata": {},
   "outputs": [],
   "source": [
    "d = 0.\n",
    "rho = 0.9\n",
    "sigma = np.sqrt(0.1)  # sigma = 0.1 in the lecture\n",
    "c = 5.\n",
    "beta = 0.98"
   ]
  },
  {
   "cell_type": "markdown",
   "id": "1436d5e7",
   "metadata": {},
   "source": [
    "We approximate the $\\{x_i\\}$ process with a Markov chain by the Tauchen method,\n",
    "implemented by [`qe.markov.tauchen`](https://quanteconpy.readthedocs.io/en/latest/markov/approximation.html#quantecon.markov.approximation.tauchen):"
   ]
  },
  {
   "cell_type": "code",
   "execution_count": 24,
   "id": "b48e92df",
   "metadata": {},
   "outputs": [],
   "source": [
    "n = 100\n",
    "mc = qe.markov.tauchen(n, rho, sigma, d)\n",
    "w = np.exp(mc.state_values) + 1"
   ]
  },
  {
   "cell_type": "markdown",
   "id": "84f8687d",
   "metadata": {},
   "source": [
    "For the instantaneous utility function, we assume $u(c) = \\log c$."
   ]
  },
  {
   "cell_type": "code",
   "execution_count": 25,
   "id": "8a2421ad",
   "metadata": {},
   "outputs": [],
   "source": [
    "u_bar = compute_reservation_utility(mc.P, np.log(w), np.log(c), beta)\n",
    "w_bar = np.exp(u_bar)"
   ]
  },
  {
   "cell_type": "markdown",
   "id": "65be5e12",
   "metadata": {},
   "source": [
    "The reservation wage now varies according to the current state $x$:"
   ]
  },
  {
   "cell_type": "code",
   "execution_count": 26,
   "id": "2798812f",
   "metadata": {
    "scrolled": false
   },
   "outputs": [
    {
     "data": {
      "image/png": "[encoded data removed]",
      "text/plain": [
       "<Figure size 640x480 with 1 Axes>"
      ]
     },
     "metadata": {},
     "output_type": "display_data"
    }
   ],
   "source": [
    "fig, ax = plt.subplots()\n",
    "ax.plot(mc.state_values, w_bar, label=\"reservation wage given $x$\")\n",
    "ax.set(xlabel=\"$x$\", ylabel=\"wage\")\n",
    "ax.legend()\n",
    "plt.show()"
   ]
  },
  {
   "cell_type": "markdown",
   "id": "2ff02840",
   "metadata": {},
   "source": [
    "The reservation wage for different values of unemployment compensation $c$:"
   ]
  },
  {
   "cell_type": "code",
   "execution_count": 27,
   "id": "b97824d2",
   "metadata": {
    "scrolled": false
   },
   "outputs": [
    {
     "data": {
      "image/png": "[encoded data removed]",
      "text/plain": [
       "<Figure size 640x480 with 1 Axes>"
      ]
     },
     "metadata": {},
     "output_type": "display_data"
    }
   ],
   "source": [
    "c_vals = 1, 2, 3\n",
    "\n",
    "fig, ax = plt.subplots()\n",
    "\n",
    "for c in c_vals:\n",
    "    u_bar = compute_reservation_utility(mc.P, np.log(w), np.log(c), beta)\n",
    "    ax.plot(mc.state_values, np.exp(u_bar), label=rf\"$\\bar w$ at $c = {c}$\")\n",
    "\n",
    "ax.set(xlabel=\"$x$\", ylabel=\"wage\")\n",
    "ax.legend()\n",
    "plt.show()"
   ]
  },
  {
   "cell_type": "markdown",
   "id": "0912842c",
   "metadata": {},
   "source": [
    "### Unemployment Duration"
   ]
  },
  {
   "cell_type": "markdown",
   "id": "f4093171",
   "metadata": {},
   "source": [
    "Next we simulate the unemployment duration for different values of\n",
    "unemployment compensation $c$."
   ]
  },
  {
   "cell_type": "code",
   "execution_count": 28,
   "id": "49be6145",
   "metadata": {},
   "outputs": [],
   "source": [
    "@jit(nopython=True, parallel=True)\n",
    "def compute_unemployment_durations(P, state_values, u_c_vals, beta, X_indices):\n",
    "    w = np.exp(state_values) + 1\n",
    "    u_w = np.log(w)\n",
    "    n_u_c_vals = u_c_vals.size\n",
    "    num_reps, t_max = X_indices.shape\n",
    "    \n",
    "    mean_durations = np.empty(n_u_c_vals)\n",
    "    \n",
    "    for i in prange(n_u_c_vals):\n",
    "        u_bar = compute_reservation_utility(P, u_w, u_c_vals[i], beta)\n",
    "        \n",
    "        duration_sum = 0\n",
    "        for j in range(num_reps):\n",
    "            t = 0\n",
    "            while t < t_max:\n",
    "                idx = X_indices[j, t]\n",
    "                if u_w[idx] >= u_bar[idx]:\n",
    "                    break\n",
    "                t += 1\n",
    "            duration_sum += t\n",
    "            \n",
    "        mean_durations[i] = duration_sum / num_reps\n",
    "        \n",
    "    return mean_durations"
   ]
  },
  {
   "cell_type": "code",
   "execution_count": 29,
   "id": "08e53c21",
   "metadata": {},
   "outputs": [],
   "source": [
    "t_max = 3000\n",
    "num_reps = 10000\n",
    "\n",
    "# Generate seed by np.random.SeedSequence().entropy\n",
    "seed = 46772388144553870973964263702460281200\n",
    "\n",
    "# Generate sequences of state indices\n",
    "# Initial condition x_0 approx 0\n",
    "X_indices = mc.simulate_indices(t_max, init=mc.n//2, num_reps=num_reps,\n",
    "                                random_state=np.random.default_rng(seed))"
   ]
  },
  {
   "cell_type": "code",
   "execution_count": 30,
   "id": "0d41db21",
   "metadata": {
    "scrolled": true
   },
   "outputs": [
    {
     "data": {
      "text/plain": [
       "array([262.8538])"
      ]
     },
     "execution_count": 30,
     "metadata": {},
     "output_type": "execute_result"
    }
   ],
   "source": [
    "# Warmup\n",
    "c = 5.\n",
    "beta = 0.98\n",
    "compute_unemployment_durations(\n",
    "    mc.P, mc.state_values, np.log([c]), beta, X_indices\n",
    ")"
   ]
  },
  {
   "cell_type": "code",
   "execution_count": 31,
   "id": "cb502ef1",
   "metadata": {},
   "outputs": [],
   "source": [
    "c_vals = np.linspace(1.0, 5.0, 20)  # Values of c\n",
    "u_c_vals = np.log(c_vals)  # Values of u(c)"
   ]
  },
  {
   "cell_type": "code",
   "execution_count": 32,
   "id": "cac8e75e",
   "metadata": {
    "scrolled": true
   },
   "outputs": [
    {
     "name": "stdout",
     "output_type": "stream",
     "text": [
      "CPU times: user 107 ms, sys: 2.01 ms, total: 109 ms\n",
      "Wall time: 9.37 ms\n"
     ]
    }
   ],
   "source": [
    "%%time\n",
    "durations = compute_unemployment_durations(\n",
    "    mc.P, mc.state_values, u_c_vals, beta, X_indices\n",
    ")"
   ]
  },
  {
   "cell_type": "markdown",
   "id": "1e8ca75e",
   "metadata": {},
   "source": [
    "Plot the results:"
   ]
  },
  {
   "cell_type": "code",
   "execution_count": 33,
   "id": "d6b891ae",
   "metadata": {},
   "outputs": [
    {
     "data": {
      "image/png": "[encoded data removed]",
      "text/plain": [
       "<Figure size 640x480 with 1 Axes>"
      ]
     },
     "metadata": {},
     "output_type": "display_data"
    }
   ],
   "source": [
    "fig, ax = plt.subplots()\n",
    "ax.plot(c_vals, durations)\n",
    "ax.set_xlabel(\"unemployment compensation\")\n",
    "ax.set_ylabel(\"mean unemployment duration\")\n",
    "plt.show()"
   ]
  },
  {
   "cell_type": "code",
   "execution_count": null,
   "id": "95d2d1e0",
   "metadata": {},
   "outputs": [],
   "source": []
  }
 ],
 "metadata": {
  "@webio": {
   "lastCommId": null,
   "lastKernelId": null
  },
  "kernelspec": {
   "display_name": "Python 3 (ipykernel)",
   "language": "python",
   "name": "python3"
  },
  "language_info": {
   "codemirror_mode": {
    "name": "ipython",
    "version": 3
   },
   "file_extension": ".py",
   "mimetype": "text/x-python",
   "name": "python",
   "nbconvert_exporter": "python",
   "pygments_lexer": "ipython3",
   "version": "3.10.8"
  }
 },
 "nbformat": 4,
 "nbformat_minor": 5
}
