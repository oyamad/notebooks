{
 "cells": [
  {
   "cell_type": "code",
   "execution_count": 1,
   "id": "90372f88",
   "metadata": {},
   "outputs": [],
   "source": [
    "using GameTheory\n",
    "using Polyhedra\n",
    "using CDDLib"
   ]
  },
  {
   "cell_type": "code",
   "execution_count": 2,
   "id": "d6256be7",
   "metadata": {},
   "outputs": [
    {
     "name": "stdout",
     "output_type": "stream",
     "text": [
      "3×2 NormalFormGame{2, Int64}:\n",
      " [3, 3]  [3, 2]\n",
      " [2, 2]  [5, 6]\n",
      " [0, 3]  [6, 1]\n"
     ]
    }
   ],
   "source": [
    "player1 = Player([3 3; 2 5; 0 6])\n",
    "player2 = Player([3 2 3; 2 6 1])\n",
    "g = NormalFormGame(player1, player2)\n",
    "println(g)"
   ]
  },
  {
   "cell_type": "code",
   "execution_count": 3,
   "id": "b3cb2561",
   "metadata": {},
   "outputs": [
    {
     "data": {
      "text/plain": [
       "(3, 2)"
      ]
     },
     "execution_count": 3,
     "metadata": {},
     "output_type": "execute_result"
    }
   ],
   "source": [
    "n, m = size(player1.payoff_array)"
   ]
  },
  {
   "cell_type": "code",
   "execution_count": 4,
   "id": "7d5456d2",
   "metadata": {},
   "outputs": [
    {
     "data": {
      "text/plain": [
       "3×2 Matrix{Int64}:\n",
       " 3  3\n",
       " 2  5\n",
       " 0  6"
      ]
     },
     "execution_count": 4,
     "metadata": {},
     "output_type": "execute_result"
    }
   ],
   "source": [
    "B = player1.payoff_array"
   ]
  },
  {
   "cell_type": "code",
   "execution_count": 5,
   "id": "8b5610f0",
   "metadata": {},
   "outputs": [
    {
     "data": {
      "text/plain": [
       "best_response_polytope (generic function with 1 method)"
      ]
     },
     "execution_count": 5,
     "metadata": {},
     "output_type": "execute_result"
    }
   ],
   "source": [
    "function best_response_polytope(opponent_player::Player{2}, idx::Integer)\n",
    "    B = opponent_player.payoff_array\n",
    "    (n, m) = size(B)\n",
    "    D = zeros(m+n, m)\n",
    "    \n",
    "    (nonneg_cond_start, payoff_cond_start) = idx == 1 ? (0, m) : (n, 0)\n",
    "    \n",
    "    D[payoff_cond_start+1:payoff_cond_start+n, :] = B\n",
    "    for i in 1:m\n",
    "        D[nonneg_cond_start+i, i] = -1\n",
    "    end\n",
    "    \n",
    "    # Shift the payoffs to be positive (bounded away from zero)\n",
    "    min_ = minimum(B)\n",
    "    if min_ < 1\n",
    "        D[payoff_cond_start+1:payoff_cond_start+n, :] .+= (-min_ + 1)\n",
    "    end\n",
    "    \n",
    "    D\n",
    "end"
   ]
  },
  {
   "cell_type": "code",
   "execution_count": 6,
   "id": "04a4d585",
   "metadata": {
    "scrolled": true
   },
   "outputs": [
    {
     "data": {
      "text/plain": [
       "5×3 Matrix{Float64}:\n",
       "  3.0   2.0   3.0\n",
       "  2.0   6.0   1.0\n",
       " -1.0   0.0   0.0\n",
       "  0.0  -1.0   0.0\n",
       "  0.0   0.0  -1.0"
      ]
     },
     "execution_count": 6,
     "metadata": {},
     "output_type": "execute_result"
    }
   ],
   "source": [
    "best_response_polytope(player2, 2)"
   ]
  },
  {
   "cell_type": "code",
   "execution_count": 7,
   "id": "2ac551a6",
   "metadata": {},
   "outputs": [
    {
     "data": {
      "text/plain": [
       "5×2 Matrix{Float64}:\n",
       " -1.0   0.0\n",
       "  0.0  -1.0\n",
       "  4.0   4.0\n",
       "  3.0   6.0\n",
       "  1.0   7.0"
      ]
     },
     "execution_count": 7,
     "metadata": {},
     "output_type": "execute_result"
    }
   ],
   "source": [
    "best_response_polytope(player1, 1)"
   ]
  },
  {
   "cell_type": "code",
   "execution_count": null,
   "id": "d986e44c",
   "metadata": {},
   "outputs": [],
   "source": []
  }
 ],
 "metadata": {
  "@webio": {
   "lastCommId": null,
   "lastKernelId": null
  },
  "kernelspec": {
   "display_name": "Julia 1.9.0",
   "language": "julia",
   "name": "julia-1.9"
  },
  "language_info": {
   "file_extension": ".jl",
   "mimetype": "application/julia",
   "name": "julia",
   "version": "1.9.0"
  }
 },
 "nbformat": 4,
 "nbformat_minor": 5
}
